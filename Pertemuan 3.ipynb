{
 "cells": [
  {
   "cell_type": "markdown",
   "metadata": {},
   "source": [
    "### Exercise 1"
   ]
  },
  {
   "cell_type": "code",
   "execution_count": null,
   "metadata": {},
   "outputs": [],
   "source": [
    "def bentuk1(size):\n",
    "    size = int(input(\"masukan nilai:\"))\n",
    "    baris=''\n",
    "    for i in range(size,0,-1):\n",
    "        for j in range(i):\n",
    "            baris=baris+'*'\n",
    "        baris=baris+'\\n'\n",
    "    print(baris)"
   ]
  },
  {
   "cell_type": "code",
   "execution_count": 11,
   "metadata": {},
   "outputs": [
    {
     "name": "stdout",
     "output_type": "stream",
     "text": [
      "*****\n",
      "****\n",
      "***\n",
      "**\n",
      "*\n",
      "\n"
     ]
    }
   ],
   "source": [
    "bentuk1(5)"
   ]
  },
  {
   "cell_type": "markdown",
   "metadata": {},
   "source": [
    "### Exercise 2"
   ]
  },
  {
   "cell_type": "code",
   "execution_count": 12,
   "metadata": {},
   "outputs": [],
   "source": [
    "def bentuk2(size):\n",
    "    baris=''\n",
    "    for i in range(size,1,-1):\n",
    "        for j in range(0,i):\n",
    "            baris=baris+'*'\n",
    "        baris=baris+'\\n'\n",
    "    for i in range(1,size+1):\n",
    "        for j in range(0,i):\n",
    "            baris=baris+'*'\n",
    "        baris=baris+'\\n'\n",
    "    print(baris)"
   ]
  },
  {
   "cell_type": "code",
   "execution_count": 13,
   "metadata": {},
   "outputs": [
    {
     "name": "stdout",
     "output_type": "stream",
     "text": [
      "*****\n",
      "****\n",
      "***\n",
      "**\n",
      "*\n",
      "**\n",
      "***\n",
      "****\n",
      "*****\n",
      "\n"
     ]
    }
   ],
   "source": [
    "bentuk2(5)"
   ]
  },
  {
   "cell_type": "markdown",
   "metadata": {},
   "source": [
    "### cara2"
   ]
  },
  {
   "cell_type": "code",
   "execution_count": 14,
   "metadata": {},
   "outputs": [],
   "source": [
    "def bentuk2_2(size):\n",
    "    baris=\"\"\n",
    "    for i in range (1,size*2):\n",
    "        for j in range(0,size+1):\n",
    "            if j<=abs(i-size):\n",
    "                baris+='*'\n",
    "            else:\n",
    "                baris+=' '\n",
    "        baris+='\\n'\n",
    "    print(baris)"
   ]
  },
  {
   "cell_type": "code",
   "execution_count": 15,
   "metadata": {},
   "outputs": [
    {
     "name": "stdout",
     "output_type": "stream",
     "text": [
      "***** \n",
      "****  \n",
      "***   \n",
      "**    \n",
      "*     \n",
      "**    \n",
      "***   \n",
      "****  \n",
      "***** \n",
      "\n"
     ]
    }
   ],
   "source": [
    "bentuk2_2(5)"
   ]
  },
  {
   "cell_type": "markdown",
   "metadata": {},
   "source": [
    "### Exercise 3"
   ]
  },
  {
   "cell_type": "code",
   "execution_count": 16,
   "metadata": {},
   "outputs": [],
   "source": [
    "def bentuk3(size):\n",
    "    baris=''\n",
    "    for i in range(0,size):\n",
    "        for j in range(1,size*2):\n",
    "            if j>=size-i and j<=size+i:\n",
    "                baris=baris+'*'\n",
    "            elif j<size-i:\n",
    "                baris=baris+' '\n",
    "        baris=baris+'\\n'\n",
    "    print(baris)"
   ]
  },
  {
   "cell_type": "code",
   "execution_count": 17,
   "metadata": {},
   "outputs": [
    {
     "name": "stdout",
     "output_type": "stream",
     "text": [
      "      *\n",
      "     ***\n",
      "    *****\n",
      "   *******\n",
      "  *********\n",
      " ***********\n",
      "*************\n",
      "\n"
     ]
    }
   ],
   "source": [
    "bentuk3(7)"
   ]
  },
  {
   "cell_type": "markdown",
   "metadata": {},
   "source": [
    "### Exercise 4"
   ]
  },
  {
   "cell_type": "code",
   "execution_count": 18,
   "metadata": {},
   "outputs": [],
   "source": [
    "def bentuk4(size):\n",
    "    baris=''\n",
    "    for i in range(0,size):\n",
    "        for j in range(0,size*2-1):\n",
    "            if j>=i and j<=size*2-2-(i):\n",
    "                baris=baris+'*'\n",
    "            elif j<i:\n",
    "                baris=baris+' '\n",
    "        baris=baris+'\\n'\n",
    "    print(baris)"
   ]
  },
  {
   "cell_type": "code",
   "execution_count": 19,
   "metadata": {},
   "outputs": [
    {
     "name": "stdout",
     "output_type": "stream",
     "text": [
      "*********\n",
      " *******\n",
      "  *****\n",
      "   ***\n",
      "    *\n",
      "\n"
     ]
    }
   ],
   "source": [
    "bentuk4(5)"
   ]
  },
  {
   "cell_type": "markdown",
   "metadata": {},
   "source": [
    "### Exercise 5 "
   ]
  },
  {
   "cell_type": "code",
   "execution_count": 20,
   "metadata": {},
   "outputs": [],
   "source": [
    "def bentuk5(size):\n",
    "    baris=''\n",
    "    for i in range(1,size*2+1):\n",
    "        for j in range(1,size*2):\n",
    "            if i<=size:\n",
    "                if j>size-i and j<size+i:\n",
    "                    baris=baris+'*'\n",
    "                elif j<=size-i:\n",
    "                    baris=baris+' '\n",
    "            if i>size:\n",
    "                if j>=abs(i-5) and j<=((size*2)-abs(i-5)):\n",
    "                    baris=baris+'*'\n",
    "                elif j<abs(i-5):\n",
    "                    baris=baris+' '\n",
    "        baris=baris+'\\n'\n",
    "    print(baris)\n"
   ]
  },
  {
   "cell_type": "code",
   "execution_count": 21,
   "metadata": {},
   "outputs": [
    {
     "name": "stdout",
     "output_type": "stream",
     "text": [
      "    *\n",
      "   ***\n",
      "  *****\n",
      " *******\n",
      "*********\n",
      "*********\n",
      " *******\n",
      "  *****\n",
      "   ***\n",
      "    *\n",
      "\n"
     ]
    }
   ],
   "source": [
    "bentuk5(5)"
   ]
  },
  {
   "cell_type": "markdown",
   "metadata": {},
   "source": [
    "### Exercise 6"
   ]
  },
  {
   "cell_type": "code",
   "execution_count": 22,
   "metadata": {},
   "outputs": [],
   "source": [
    "def bentuk6(size):\n",
    "    baris=\"\"\n",
    "    for i in range (1,size*2):\n",
    "        for j in range(1,size+1):\n",
    "            if j<size-abs(i-size):\n",
    "                baris+=' '\n",
    "            else:\n",
    "                baris+='*'\n",
    "        baris+='\\n'\n",
    "    print(baris)"
   ]
  },
  {
   "cell_type": "code",
   "execution_count": 23,
   "metadata": {},
   "outputs": [
    {
     "name": "stdout",
     "output_type": "stream",
     "text": [
      "*****\n",
      " ****\n",
      "  ***\n",
      "   **\n",
      "    *\n",
      "   **\n",
      "  ***\n",
      " ****\n",
      "*****\n",
      "\n"
     ]
    }
   ],
   "source": [
    "bentuk6(5)"
   ]
  },
  {
   "cell_type": "markdown",
   "metadata": {},
   "source": [
    "### Exercise 7"
   ]
  },
  {
   "cell_type": "code",
   "execution_count": 24,
   "metadata": {},
   "outputs": [],
   "source": [
    "def bentuk7(size):\n",
    "    baris=''\n",
    "    for i in range(0,size*2+1):\n",
    "        for j in range(0,size*2+1):\n",
    "            if j>abs(size-i) and j<size*2-abs(size-i):\n",
    "                baris+=' '\n",
    "            #elif j<=abs(size-i):\n",
    "            else:\n",
    "                baris+='*'\n",
    "        baris+='\\n'\n",
    "    print(baris)"
   ]
  },
  {
   "cell_type": "code",
   "execution_count": 25,
   "metadata": {},
   "outputs": [
    {
     "name": "stdout",
     "output_type": "stream",
     "text": [
      "*************\n",
      "****** ******\n",
      "*****   *****\n",
      "****     ****\n",
      "***       ***\n",
      "**         **\n",
      "*           *\n",
      "**         **\n",
      "***       ***\n",
      "****     ****\n",
      "*****   *****\n",
      "****** ******\n",
      "*************\n",
      "\n"
     ]
    }
   ],
   "source": [
    "bentuk7(6)"
   ]
  },
  {
   "cell_type": "markdown",
   "metadata": {},
   "source": [
    "### Tugas 1"
   ]
  },
  {
   "cell_type": "markdown",
   "metadata": {},
   "source": [
    "Print Main Menu \n",
    "\n",
    "Selamat Datang\n",
    "1.Lihat Menu\n",
    "2.Lihat Cart\n",
    "3.Check out\n",
    "4.Keluar\n",
    "\n",
    "*Menu 1\n",
    "    1.Paket Hoki A 20000\n",
    "    2.Paket Hoki B 25000\n",
    "    3.Paket Hoki C 25000\n",
    "    Mau yg mana=?\n",
    "    \n",
    "*Menu 2 \n",
    "    Tampilkan isi cart then back to main menu\n",
    "    \n",
    "*Menu 3\n",
    "    1.Paket Hoki A 20000\n",
    "    2.Paket Hoki B 25000\n",
    "    3.Paket Hoki C 25000    \n",
    "    Total : 70000\n",
    "    Masukkan Uang :?\n",
    "        jika uang kurang tampilkan kurang uangnya\n",
    "        "
   ]
  },
  {
   "cell_type": "code",
   "execution_count": 7,
   "metadata": {},
   "outputs": [],
   "source": [
    "from IPython.display import clear_output\n",
    "def hokibento():\n",
    "    inputkey=''\n",
    "    total_bill=0\n",
    "    cart=[0,0,0]\n",
    "    \n",
    "    df_menu=['Paket Hoki A','Paket Hoki B','Paket Hoki C']\n",
    "    harga=[20000,25000,30000]\n",
    "    \n",
    "    while inputkey!='4':\n",
    "        print('Selamat Datang \\n 1.Lihat Menu\\n 2.Lihat Cart\\n 3.Check out\\n 4.Keluar\\n')\n",
    "        inputkey=input('Silakan pilih menu : \\n')\n",
    "        if(inputkey=='1'):\n",
    "            inputmenu=''\n",
    "            feedback=''\n",
    "            while inputmenu!=4:\n",
    "                clear_output()\n",
    "                #print(feedback)\n",
    "                print(f'{feedback}Silakan input dan pilih Menu \\n 1.Paket Hoki A 20000\\n 2.Paket Hoki B 25000\\n 3.Paket Hoki C 30000\\n 4.Keluar\\n\\n')\n",
    "                inputmenu=int(input('Silakan input pesanan : '))\n",
    "                if inputmenu!=4:\n",
    "                    feedback=f'{df_menu[inputmenu-1]} masuk Cart\\n\\n'\n",
    "                    cart[inputmenu-1]+=1\n",
    "                    total_bill+=harga[inputmenu-1]\n",
    "                \n",
    "            clear_output()\n",
    "\n",
    "        if(inputkey=='2'):\n",
    "            clear_output()\n",
    "            for i in range(0,3):\n",
    "                if cart[i]>0:\n",
    "                    print(f'{cart[i]} {df_menu[i]} {cart[i]*harga[i]}')\n",
    "            print(f'Total Tagihan : {total_bill}\\n')\n",
    "            \n",
    "        if(inputkey=='3'):\n",
    "            input_uang=0\n",
    "            feedback=''\n",
    "            clear_output()\n",
    "            while input_uang<total_bill:\n",
    "                clear_output()\n",
    "                print(feedback)\n",
    "                for i in range(0,3):\n",
    "                    if cart[i]>0:\n",
    "                        print(f'{cart[i]} {df_menu[i]} {cart[i]*harga[i]}')\n",
    "                print(f'Total Tagihan : {total_bill}\\n')\n",
    "                input_uang=int(input('Masukkan Jumlah uang Pembayaran :'))\n",
    "                if input_uang>=total_bill:\n",
    "                    clear_output()\n",
    "                    print(f'Uang Kembalian : {abs(total_bill-input_uang)} \\n Pembelian telah selesai\\n')\n",
    "                    cart=[0,0,0]\n",
    "                else:\n",
    "                    feedback='Jumlah uang kurang\\n'\n",
    "                    \n",
    "        if(inputkey=='4'):\n",
    "            clear_output()\n",
    "            print('Terima Kasih Sampai Jumpa lagi\\n')\n",
    "            "
   ]
  },
  {
   "cell_type": "code",
   "execution_count": 9,
   "metadata": {
    "scrolled": true
   },
   "outputs": [
    {
     "name": "stdout",
     "output_type": "stream",
     "text": [
      "Terima Kasih Sampai Jumpa lagi\n",
      "\n"
     ]
    }
   ],
   "source": [
    "hokibento()"
   ]
  },
  {
   "cell_type": "code",
   "execution_count": null,
   "metadata": {},
   "outputs": [],
   "source": []
  }
 ],
 "metadata": {
  "kernelspec": {
   "display_name": "Python 3",
   "language": "python",
   "name": "python3"
  },
  "language_info": {
   "codemirror_mode": {
    "name": "ipython",
    "version": 3
   },
   "file_extension": ".py",
   "mimetype": "text/x-python",
   "name": "python",
   "nbconvert_exporter": "python",
   "pygments_lexer": "ipython3",
   "version": "3.6.5"
  }
 },
 "nbformat": 4,
 "nbformat_minor": 2
}
